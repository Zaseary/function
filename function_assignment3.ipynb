{
  "nbformat": 4,
  "nbformat_minor": 0,
  "metadata": {
    "colab": {
      "provenance": []
    },
    "kernelspec": {
      "name": "python3",
      "display_name": "Python 3"
    },
    "language_info": {
      "name": "python"
    }
  },
  "cells": [
    {
      "cell_type": "markdown",
      "source": [],
      "metadata": {
        "id": "21-IHB2y1EK0"
      }
    },
    {
      "cell_type": "markdown",
      "source": [
        "1.What is Object-Oriented Programming (OOP)??\n",
        "ans-Object-Oriented Programming (OOP) is a programming paradigm that uses objects to represent real-world entities, bundling data and functions that operate on that data. It emphasizes modularity, reusability, and abstraction through concepts like classes, objects, inheritance, and polymorphism."
      ],
      "metadata": {
        "id": "DnsjmOs81ftC"
      }
    },
    {
      "cell_type": "markdown",
      "source": [
        "2.What is a class in OOP?\n",
        "Ans-Class in OOP: A blueprint or template that defines the properties and behavior of an object. It specifies the attributes (data) and methods (functions) that an object of that class will have.\n"
      ],
      "metadata": {
        "id": "hhePXt_g1233"
      }
    },
    {
      "cell_type": "markdown",
      "source": [
        "3. What is an object in OOP?\n",
        "Ans-Object in OOP: An instance of a class, which represents a real-world entity or concept. It has its own set of attributes (data) and methods (functions) that are defined in the class.\n",
        "\n"
      ],
      "metadata": {
        "id": "0mWJnPTR2EI0"
      }
    },
    {
      "cell_type": "markdown",
      "source": [
        "4. What is the difference between abstraction and encapsulation?\n",
        "Ans-* Abstraction: Hides internal implementation details and shows only the necessary information to the outside world. Focuses on what an object does, not how it does it.\n",
        "* Encapsulation: Bundles data and methods that operate on that data within a single unit (class or object), restricting access to internal data. Focuses on hiding data and controlling access to it.\n"
      ],
      "metadata": {
        "id": "iGEJOx9R2Qq6"
      }
    },
    {
      "cell_type": "markdown",
      "source": [
        "5.What are dunder methods in Python?\n",
        "Ans-Dunder methods, short for \"double underscore\" methods, are special methods in Python classes that start and end with double underscores ( __ ). They are used to define custom behavior for operators, functions, and other built-in operations.\n"
      ],
      "metadata": {
        "id": "ggIgB_CE2jaR"
      }
    },
    {
      "cell_type": "markdown",
      "source": [
        "6.Explain the concept of inheritance in OOP?\n",
        "Ans-nheritance is a mechanism in Object-Oriented Programming (OOP) that allows one class to inherit the properties, methods, and behavior of another class. The inheriting class, called the subclass or derived class, inherits all the attributes and methods of the parent class, called the superclass or base class.\n",
        "\n"
      ],
      "metadata": {
        "id": "Y8GRzx5n2uhO"
      }
    },
    {
      "cell_type": "markdown",
      "source": [
        "7. What is polymorphism in OOP?\n",
        "Ans-Polymorphism is the ability of an object to take on multiple forms, depending on the context in which it is used. This allows objects of different classes to be treated as objects of a common superclass.\n"
      ],
      "metadata": {
        "id": "FuAKkRp43GWz"
      }
    },
    {
      "cell_type": "markdown",
      "source": [
        "8.How is encapsulation achieved in Python?\n",
        "ans-Encapsulation is achieved in Python through the use of classes and objects. Python provides a way to hide internal implementation details and restrict access to certain attributes and methods using:\n",
        "\n"
      ],
      "metadata": {
        "id": "FvAz6q_W3Q3g"
      }
    },
    {
      "cell_type": "markdown",
      "source": [
        "9. What is a constructor in Python?\n",
        "Ans-A constructor is a special method in a class that is automatically called when an object of that class is created. In Python, the constructor is defined using the __init__ method.\n",
        "\n"
      ],
      "metadata": {
        "id": "3EnzEDD73fzd"
      }
    },
    {
      "cell_type": "markdown",
      "source": [
        "10. What are class and static methods in Python?\n",
        "Ans-Instance Methods: Bound to an instance of the class, takes self as the first parameter.\n",
        " Class Methods: Bound to the class itself, takes cls as the first parameter.\n",
        " Static Methods: Not bound to the class or instance, no implicit first parameter.\n",
        "\n"
      ],
      "metadata": {
        "id": "pcp0ie-03u0n"
      }
    },
    {
      "cell_type": "markdown",
      "source": [
        "11. What is method overloading in Python?\n",
        "Ans-Method overloading is a feature in some programming languages that allows multiple methods with the same name to be defined, but with different parameter lists. However, Python does not directly support method overloading like some other languages.\n",
        "\n"
      ],
      "metadata": {
        "id": "mV2zhhGp39ch"
      }
    },
    {
      "cell_type": "markdown",
      "source": [
        "12.What is method overriding in OOPs?\n",
        "Ans-Method overriding is a feature in Object-Oriented Programming (OOP) that allows a subclass to provide a specific implementation of a method that is already defined in its superclass. The subclass method has the same name, return type, and parameter list as the superclass method, but it can have a different implementation.\n",
        "\n"
      ],
      "metadata": {
        "id": "hwbOs-Li4LMM"
      }
    },
    {
      "cell_type": "markdown",
      "source": [
        "13. What is a property decorator in Python?\n",
        "Ans-he @property decorator in Python is a way to implement getter, setter, and deleter methods for instance attributes. It allows you to control access to instance attributes and perform actions when an attribute is accessed, modified, or deleted.\n",
        "\n"
      ],
      "metadata": {
        "id": "gD1MI7TI4ZCm"
      }
    },
    {
      "cell_type": "markdown",
      "source": [
        "14. Why is polymorphism important in OOP?\n",
        "ans-olymorphism is a fundamental concept in Object-Oriented Programming (OOP) that allows objects of different classes to be treated as objects of a common superclass. This enables more flexibility, generic code, and easier maintenance.\n",
        "\n"
      ],
      "metadata": {
        "id": "565Jl_8y4oWQ"
      }
    },
    {
      "cell_type": "markdown",
      "source": [
        "15. What is an abstract class in Python?\n",
        "Ans-An abstract class in Python is a class that cannot be instantiated on its own and is designed to be inherited by other classes. Abstract classes provide a way to define a blueprint for other classes to follow, ensuring that they implement certain methods or properties.\n"
      ],
      "metadata": {
        "id": "VDJPcCL_4zC_"
      }
    },
    {
      "cell_type": "markdown",
      "source": [
        "16. What are the advantages of OOp?\n",
        "Ans-Object-Oriented Programming (OOP) offers several advantages that make it a popular and effective programming paradigm. Some of the key benefits of OOP include:\n",
        "\n"
      ],
      "metadata": {
        "id": "zvFwKkNd48Y7"
      }
    },
    {
      "cell_type": "markdown",
      "source": [
        "17.What is the difference between a class variable and an instance variable?\n",
        "Ans-1. Class Variable:\n",
        "    - Shared by all instances of a class.\n",
        "    - Defined at the class level.\n",
        "    - Accessed using the class name or instance name.\n",
        "\n",
        "Instance Variable:\n",
        "    - Unique to each instance of a class.\n",
        "    - Defined at the instance level (typically in the __init__ method).\n",
        "    - Accessed using the instance name.\n",
        "\n",
        "Key differences:\n",
        "\n",
        " Scope: Class variables have a class scope, while instance variables have an instance scope.\n",
        " Sharing: Class variables are shared among all instances, while instance variables are not shared.\n",
        " Modification: Modifying a class variable affects all instances, while modifying an instance variable only affects the specific instance.\n"
      ],
      "metadata": {
        "id": "f4qJVEPv5JXY"
      }
    },
    {
      "cell_type": "markdown",
      "source": [
        "18.What is multiple inheritance in Python?\n",
        "Ans-Multiple inheritance is a feature in Python that allows a class to inherit properties and behavior from more than one parent class. This means a child class can inherit attributes and methods from multiple parent classes.\n",
        "\n"
      ],
      "metadata": {
        "id": "GV_LQIaE5jxO"
      }
    },
    {
      "cell_type": "markdown",
      "source": [
        "19.Explain the purpose of ‘’__str__’ and ‘__repr__’ ‘ methods in Python.\n",
        "Ans-ython, the __str__ and __repr__ methods are special methods that allow you to control how objects of a class are represented as strings.\n",
        "\n"
      ],
      "metadata": {
        "id": "yf9zcH-i5uWW"
      }
    },
    {
      "cell_type": "markdown",
      "source": [
        "20.What is the significance of the ‘super()’ function in Python.\n",
        "Ans-The super() function in Python is used to access methods and properties of a parent class (also known as a superclass) from a child class. It allows you to call methods of the parent class, which can be useful for."
      ],
      "metadata": {
        "id": "WhPylVyu58Ak"
      }
    },
    {
      "cell_type": "markdown",
      "source": [
        "21.What is the significance of the __del__ method in Python.\n",
        "Ans-he __del__ method in Python is a special method that is called when an object is about to be destroyed. It is also known as a finalizer or destructor."
      ],
      "metadata": {
        "id": "ZOwm6HiF6Ji9"
      }
    },
    {
      "cell_type": "markdown",
      "source": [
        "22.What is the difference between @staticmethod and @classmethod in Python.\n",
        "Ans-In Python, @staticmethod and @classmethod are two types of decorators that can be used to define methods within a class. The main difference between them lies in their purpose, usage, and the type of access they have to the class and instance."
      ],
      "metadata": {
        "id": "dq20tTWhHOBj"
      }
    },
    {
      "cell_type": "markdown",
      "source": [
        "23.How does polymorphism work in Python with inheritance?\n",
        "Ans-Polymorphism is the ability of an object to take on multiple forms. In Python, polymorphism can be achieved through inheritance, where a subclass inherits the properties and behavior of a parent class and can also add new behavior or override existing behaviour.\n"
      ],
      "metadata": {
        "id": "_UIQ6zliHaTE"
      }
    },
    {
      "cell_type": "markdown",
      "source": [
        "24.What is method chaining in Python OOP\n",
        "Ans-Method chaining is a technique in Python Object-Oriented Programming (OOP) where multiple methods are called on the same object in a single line of code. This is achieved by having each method return the object itself, allowing the next method to be called on the same object.\n",
        "\n"
      ],
      "metadata": {
        "id": "b1glL8RZHpsG"
      }
    },
    {
      "cell_type": "markdown",
      "source": [
        "25.What is the purpose of the __call__ method in Python.\n",
        "Ans-__call__ method in Python is a special method that allows an instance of a class to be called as a function. This method is invoked when an instance of a class is used as a callable.\n",
        "\n"
      ],
      "metadata": {
        "id": "oNjjdkEsH0jh"
      }
    },
    {
      "cell_type": "code",
      "source": [
        "#1. Create a parent class Animal with a method speak() that prints a generic message. Create a child class Dog\n",
        "#that overrides the speak() method to print \"Bark!\"\n",
        "class Animal:\n",
        "    def speak(self):\n",
        "        print(\"The animal makes a generic sound.\")\n",
        "\n",
        "class Dog(Animal):\n",
        "    def speak(self):\n",
        "        print(\"Bark!\")\n",
        "\n",
        "# Create instances of Animal and Dog\n",
        "animal = Animal()\n",
        "dog = Dog()\n",
        "\n",
        "# Call the speak() method on each instance\n",
        "animal.speak()  # Output: The animal makes a generic sound.\n",
        "dog.speak()  # Output: Bark!\n"
      ],
      "metadata": {
        "colab": {
          "base_uri": "https://localhost:8080/"
        },
        "id": "Q1YNKBqaIAJB",
        "outputId": "c3f96e8d-1426-4111-c199-41885a2d6cea"
      },
      "execution_count": 1,
      "outputs": [
        {
          "output_type": "stream",
          "name": "stdout",
          "text": [
            "The animal makes a generic sound.\n",
            "Bark!\n"
          ]
        }
      ]
    },
    {
      "cell_type": "code",
      "source": [
        " #2. Write a program to create an abstract class Shape with a method area(). Derive classes Circle and Rectangle\n",
        "#from it and implement the area() method in both#\n",
        "from abc import ABC, abstractmethod\n",
        "import math\n",
        "class Shape(ABC):\n",
        "    @abstractmethod\n",
        "    def area(self):\n",
        "        pass\n",
        "\n",
        "# Circle class derived from Shape\n",
        "class Circle(Shape):\n",
        "    def __init__(self, radius):\n",
        "        self.radius = radius\n",
        "\n",
        "    def area(self):\n",
        "        return math.pi * (self.radius ** 2)\n",
        "\n",
        "# Rectangle class derived from Shape\n",
        "class Rectangle(Shape):\n",
        "    def __init__(self, length, width):\n",
        "        self.length = length\n",
        "        self.width = width\n",
        "\n",
        "    def area(self):\n",
        "        return self.length * self.width\n",
        "        # Create instances of Circle and Rectangle\n",
        "circle = Circle(5)\n",
        "rectangle = Rectangle(4, 6)\n",
        "\n",
        "# Calculate and print the area of each shape\n",
        "print(f\"Circle area: {circle.area():.2f}\")\n",
        "print(f\"Rectangle area: {rectangle.area()}\")\n",
        "\n",
        "\n",
        "\n"
      ],
      "metadata": {
        "colab": {
          "base_uri": "https://localhost:8080/"
        },
        "id": "1s1Kx5PYIRaI",
        "outputId": "1a52d99d-910c-496f-ce74-837a23251129"
      },
      "execution_count": 4,
      "outputs": [
        {
          "output_type": "stream",
          "name": "stdout",
          "text": [
            "Circle area: 78.54\n",
            "Rectangle area: 24\n"
          ]
        }
      ]
    },
    {
      "cell_type": "markdown",
      "source": [],
      "metadata": {
        "id": "SwZ9Vf_52a6L"
      }
    },
    {
      "cell_type": "code",
      "source": [
        "#3\n",
        "class Vehicle:\n",
        "    def __init__(self, type):\n",
        "        self.type = type\n",
        "\n",
        "    def display_type(self):\n",
        "        print(f\"Vehicle type: {self.type}\")\n",
        "\n",
        "class Car(Vehicle):\n",
        "    def __init__(self, type, brand, model):\n",
        "        super().__init__(type)\n",
        "        self.brand = brand\n",
        "        self.model = model\n",
        "\n",
        "    def display_details(self):\n",
        "        print(f\"Brand: {self.brand}, Model: {self.model}\")\n",
        "\n",
        "class ElectricCar(Car):\n",
        "    def __init__(self, type, brand, model, battery_capacity):\n",
        "        super().__init__(type, brand, model)\n",
        "        self.battery_capacity = battery_capacity\n",
        "\n",
        "    def display_battery code:\n",
        "        print(f\"Battery capacity: {self.battery_capacity} kWh\")\n",
        "\n",
        "# Create an instance of ElectricCar\n",
        "electric_car = ElectricCar(\"Electric\", \"Tesla\", \"Model S\", 100)\n",
        "\n",
        "# Call methods to display details\n",
        "electric_car.display_type()\n",
        "electric_car.display_details()\n",
        "electric_car.display_battery_code()\n"
      ],
      "metadata": {
        "colab": {
          "base_uri": "https://localhost:8080/",
          "height": 110
        },
        "id": "ZZgUqRwuItJR",
        "outputId": "08a67d29-8409-4ede-967f-74d88853272c"
      },
      "execution_count": 8,
      "outputs": [
        {
          "output_type": "error",
          "ename": "SyntaxError",
          "evalue": "expected '(' (ipython-input-3534351079.py, line 23)",
          "traceback": [
            "\u001b[0;36m  File \u001b[0;32m\"/tmp/ipython-input-3534351079.py\"\u001b[0;36m, line \u001b[0;32m23\u001b[0m\n\u001b[0;31m    def display_battery code:\u001b[0m\n\u001b[0m                        ^\u001b[0m\n\u001b[0;31mSyntaxError\u001b[0m\u001b[0;31m:\u001b[0m expected '('\n"
          ]
        }
      ]
    },
    {
      "cell_type": "code",
      "source": [
        "#4.\n",
        "class Bird:\n",
        "    def fly(self):\n",
        "        print(\"The bird is flying.\")\n",
        "\n",
        "class Sparrow(Bird):\n",
        "    def fly(self):\n",
        "        print(\"The sparrow is flying swiftly.\")\n",
        "\n",
        "class Penguin(Bird):\n",
        "    def fly(self):\n",
        "        print(\"Penguins cannot fly. They swim instead.\")\n",
        "\n",
        "# Create a list of birds\n",
        "birds = [Sparrow(), Penguin(), Bird()]\n",
        "\n",
        "# Call the fly() method on each bird\n",
        "for bird in birds:\n",
        "    bird.fly()\n"
      ],
      "metadata": {
        "colab": {
          "base_uri": "https://localhost:8080/"
        },
        "id": "aOvuVemCJwpB",
        "outputId": "18bd9880-3c54-4c3d-c83c-a81803e4bb98"
      },
      "execution_count": 10,
      "outputs": [
        {
          "output_type": "stream",
          "name": "stdout",
          "text": [
            "The sparrow is flying swiftly.\n",
            "Penguins cannot fly. They swim instead.\n",
            "The bird is flying.\n"
          ]
        }
      ]
    },
    {
      "cell_type": "code",
      "source": [
        "#5\n",
        "class BankAccount:\n",
        "    def __init__(self, initial_balance=0):\n",
        "        self.__balance = initial_balance\n",
        "\n",
        "    def deposit(self, amount):\n",
        "        if amount > 0:\n",
        "            self.__balance += amount\n",
        "            print(f\"Deposited {amount}. New balance: {self.__balance}\")\n",
        "        else:\n",
        "            print(\"Invalid deposit amount.\")\n",
        "\n",
        "    def withdraw(self, amount):\n",
        "        if 0 < amount <= self.__balance:\n",
        "            self.__balance -= amount\n",
        "            print(f\"Withdrew {amount}. New balance: {self.__balance}\")\n",
        "        elif amount <= 0:\n",
        "            print(\"Invalid withdrawal amount.\")\n",
        "        else:\n",
        "            print(\"Insufficient funds.\")\n",
        "\n",
        "    def check_balance(self):\n",
        "        print(f\"Current balance: {self.__balance}\")\n",
        "\n",
        "# Create a BankAccount instance\n",
        "account = BankAccount(1000)\n",
        "\n",
        "# Perform operations\n",
        "account.check_balance()\n",
        "account.deposit(500)\n",
        "account.withdraw(200)\n",
        "account.check_balance()\n",
        "\n"
      ],
      "metadata": {
        "colab": {
          "base_uri": "https://localhost:8080/"
        },
        "id": "2emoBkxTKHjj",
        "outputId": "efe3d4f8-49f3-4e7f-f3a6-6ebce6c5852b"
      },
      "execution_count": 12,
      "outputs": [
        {
          "output_type": "stream",
          "name": "stdout",
          "text": [
            "Current balance: 1000\n",
            "Deposited 500. New balance: 1500\n",
            "Withdrew 200. New balance: 1300\n",
            "Current balance: 1300\n"
          ]
        }
      ]
    },
    {
      "cell_type": "code",
      "source": [
        "#6.\n",
        "class Instrument:\n",
        "    def play(self):\n",
        "        print(\"The instrument is playing.\")\n",
        "\n",
        "class Guitar(Instrument):\n",
        "    def play(self):\n",
        "        print(\"The guitar is strumming.\")\n",
        "\n",
        "class Piano(Instrument):\n",
        "    def play(self):\n",
        "        print(\"The piano is being played.\")\n",
        "\n",
        "# Create a list of instruments\n",
        "instruments = [Guitar(), Piano(), Instrument()]\n",
        "\n",
        "# Call the play() method on each instrument\n",
        "for instrument in instruments:\n",
        "    instrument.play()\n"
      ],
      "metadata": {
        "colab": {
          "base_uri": "https://localhost:8080/"
        },
        "id": "rymNQdlAKNdQ",
        "outputId": "986757df-fb88-422f-cc6b-3920cc457131"
      },
      "execution_count": 13,
      "outputs": [
        {
          "output_type": "stream",
          "name": "stdout",
          "text": [
            "The guitar is strumming.\n",
            "The piano is being played.\n",
            "The instrument is playing.\n"
          ]
        }
      ]
    },
    {
      "cell_type": "code",
      "source": [
        "#7.\n",
        "class MathOperations:\n",
        "    @classmethod\n",
        "    def add_numbers(cls, num1, num2):\n",
        "        return num1 + num2\n",
        "\n",
        "    @staticmethod\n",
        "    def subtract_numbers(num1, num2):\n",
        "        return num1 - num2\n",
        "\n",
        "# Call the class method\n",
        "result_add = MathOperations.add_numbers(10, 5)\n",
        "print(f\"Addition result: {result_add}\")\n",
        "\n",
        "# Call the static method\n",
        "result_subtract = MathOperations.subtract_numbers(10, 5)\n",
        "print(f\"Subtraction result: {result_subtract}\")\n"
      ],
      "metadata": {
        "colab": {
          "base_uri": "https://localhost:8080/"
        },
        "id": "vnwvOppmKZbc",
        "outputId": "d35ceb54-6241-4ec8-8690-febe5acf1b19"
      },
      "execution_count": 14,
      "outputs": [
        {
          "output_type": "stream",
          "name": "stdout",
          "text": [
            "Addition result: 15\n",
            "Subtraction result: 5\n"
          ]
        }
      ]
    },
    {
      "cell_type": "code",
      "source": [
        "#8.\n",
        "class Person:\n",
        "    total_persons = 0\n",
        "\n",
        "    def __init__(self, name):\n",
        "        self.name = name\n",
        "        Person.total_persons += 1\n",
        "\n",
        "    @classmethod\n",
        "    def count_persons(cls):\n",
        "        return cls.total_persons\n",
        "\n",
        "# Create instances of Person\n",
        "person1 = Person(\"John\")\n",
        "person2 = Person(\"Alice\")\n",
        "person3 = Person(\"Bob\")\n",
        "\n",
        "# Get the total number of persons\n",
        "total_persons = Person.count_persons()\n",
        "print(f\"Total persons: {total_persons}\")\n"
      ],
      "metadata": {
        "colab": {
          "base_uri": "https://localhost:8080/"
        },
        "id": "v6C98k7YKnN5",
        "outputId": "3431fb62-4b16-449c-8352-d9d6924a190a"
      },
      "execution_count": 15,
      "outputs": [
        {
          "output_type": "stream",
          "name": "stdout",
          "text": [
            "Total persons: 3\n"
          ]
        }
      ]
    },
    {
      "cell_type": "code",
      "source": [
        "#9.\n",
        "class Fraction:\n",
        "    def __init__(self, numerator, denominator):\n",
        "        if denominator == 0:\n",
        "            raise ValueError(\"Denominator cannot be zero\")\n",
        "        self.numerator = numerator\n",
        "        self.denominator = denominator\n",
        "\n",
        "    def __str__(self):\n",
        "        return f\"{self.numerator}/{self.denominator}\"\n",
        "\n",
        "# Create instances of Fraction\n",
        "fraction1 = Fraction(1, 2)\n",
        "fraction2 = Fraction(3, 4)\n",
        "\n",
        "# Display the fractions\n",
        "print(fraction1)  # Output: 1/2\n",
        "print(fraction2)  # Output: 3/4\n"
      ],
      "metadata": {
        "colab": {
          "base_uri": "https://localhost:8080/"
        },
        "id": "BodKmnqZKzK2",
        "outputId": "87f061c6-44b9-4186-c263-2f667601a9e8"
      },
      "execution_count": 16,
      "outputs": [
        {
          "output_type": "stream",
          "name": "stdout",
          "text": [
            "1/2\n",
            "3/4\n"
          ]
        }
      ]
    },
    {
      "cell_type": "code",
      "source": [
        "#10.\n",
        "class Vector:\n",
        "    def __init__(self, x, y):\n",
        "        self.x = x\n",
        "        self.y = y\n",
        "\n",
        "    def __add__(self, other):\n",
        "        return Vector(self.x + other.x, self.y + other.y)\n",
        "\n",
        "    def __str__(self):\n",
        "        return f\"({self.x}, {self.y})\"\n",
        "\n",
        "# Create instances of Vector\n",
        "vector1 = Vector(2, 3)\n",
        "vector2 = Vector(4, 5)\n",
        "\n",
        "# Add the vectors\n",
        "result = vector1 + vector2\n",
        "\n",
        "# Display the result\n",
        "print(f\"Vector 1: {vector1}\")\n",
        "print(f\"Vector 2: {vector2}\")\n",
        "print(f\"Result: {result}\")\n"
      ],
      "metadata": {
        "colab": {
          "base_uri": "https://localhost:8080/"
        },
        "id": "AL-EocZOK9_k",
        "outputId": "acd85380-6332-4305-9cb6-adef8cb55c2b"
      },
      "execution_count": 17,
      "outputs": [
        {
          "output_type": "stream",
          "name": "stdout",
          "text": [
            "Vector 1: (2, 3)\n",
            "Vector 2: (4, 5)\n",
            "Result: (6, 8)\n"
          ]
        }
      ]
    },
    {
      "cell_type": "code",
      "source": [
        "#11\n",
        "class Person:\n",
        "    def __init__(self, name, age):\n",
        "        self.name = name\n",
        "        self.age = age\n",
        "\n",
        "    def greet(self):\n",
        "        print(f\"Hello, my name is {self.name} and I am {self.age} years old.\")\n",
        "\n",
        "# Create an instance of Person\n",
        "person = Person(\"John\", 30)\n",
        "\n",
        "# Call the greet method\n",
        "person.greet()\n",
        "\n"
      ],
      "metadata": {
        "colab": {
          "base_uri": "https://localhost:8080/"
        },
        "id": "wf9-PTvyLKfP",
        "outputId": "9497120b-8167-4b0c-8157-46c559799774"
      },
      "execution_count": 18,
      "outputs": [
        {
          "output_type": "stream",
          "name": "stdout",
          "text": [
            "Hello, my name is John and I am 30 years old.\n"
          ]
        }
      ]
    },
    {
      "cell_type": "code",
      "source": [
        "#12.\n",
        "class Student:\n",
        "    def __init__(self, name, grades=None):\n",
        "        self.name = name\n",
        "        self.grades = grades if grades is not None else []\n",
        "\n",
        "    def average_grade(self):\n",
        "        if not self.grades:\n",
        "            return 0\n",
        "        return sum(self.grades) / len(self.grades)\n",
        "\n",
        "# Create an instance of Student\n",
        "student = Student(\"John\", [90, 85, 95, 88])\n",
        "\n",
        "# Calculate and display the average grade\n",
        "average = student.average_grade()\n",
        "print(f\"Average grade for {student.name}: {average:.2f}\")\n",
        "\n"
      ],
      "metadata": {
        "colab": {
          "base_uri": "https://localhost:8080/"
        },
        "id": "ZWyYZwMJLT97",
        "outputId": "5a5eeaed-b33e-4eeb-face-dda0beb639b5"
      },
      "execution_count": 19,
      "outputs": [
        {
          "output_type": "stream",
          "name": "stdout",
          "text": [
            "Average grade for John: 89.50\n"
          ]
        }
      ]
    },
    {
      "cell_type": "code",
      "source": [
        "#13.\n",
        "class Rectangle:\n",
        "    def __init__(self):\n",
        "        self.length = 0\n",
        "        self.width = 0\n",
        "\n",
        "    def set_dimensions(self, length, width):\n",
        "        if length <= 0 or width <= 0:\n",
        "            raise ValueError(\"Length and width must be positive numbers\")\n",
        "        self.length = length\n",
        "        self.width = width\n",
        "\n",
        "    def area(self):\n",
        "        return self.length * self.width\n",
        "\n",
        "# Create an instance of Rectangle\n",
        "rectangle = Rectangle()\n",
        "\n",
        "# Set the dimensions\n",
        "rectangle.set_dimensions(5, 3)\n",
        "\n",
        "# Calculate and display the area\n",
        "area = rectangle.area()\n",
        "print(f\"Area of the rectangle: {area}\")\n"
      ],
      "metadata": {
        "colab": {
          "base_uri": "https://localhost:8080/"
        },
        "id": "otl5eUJhLea7",
        "outputId": "cd8578e0-12d4-4f60-f5a1-8fac1515a456"
      },
      "execution_count": 20,
      "outputs": [
        {
          "output_type": "stream",
          "name": "stdout",
          "text": [
            "Area of the rectangle: 15\n"
          ]
        }
      ]
    },
    {
      "cell_type": "code",
      "source": [
        "#14.\n",
        "class Employee:\n",
        "    def __init__(self, name, hourly_rate, hours_worked):\n",
        "        self.name = name\n",
        "        self.hourly_rate = hourly_rate\n",
        "        self.hours_worked = hours_worked\n",
        "\n",
        "    def calculate_salary(self):\n",
        "        return self.hourly_rate * self.hours_worked\n",
        "\n",
        "class Manager(Employee):\n",
        "    def __init__(self, name, hourly_rate, hours_worked, bonus):\n",
        "        super().__init__(name, hourly_rate, hours_worked)\n",
        "        self.bonus = bonus\n",
        "\n",
        "    def calculate_salary(self):\n",
        "        return super().calculate_salary() + self.bonus\n",
        "\n",
        "# Create an Employee instance\n",
        "employee = Employee(\"John Doe\", 50, 40)\n",
        "print(f\"Employee {employee.name}'s salary: ${employee.calculate_salary():.2f}\")\n",
        "\n",
        "# Create a Manager instance\n",
        "manager = Manager(\"Jane Smith\", 75, 40, 1000)\n",
        "print(f\"Manager {manager.name}'s salary: ${manager.calculate_salary():.2f}\")\n"
      ],
      "metadata": {
        "colab": {
          "base_uri": "https://localhost:8080/"
        },
        "id": "ZSGCu2EmLpB6",
        "outputId": "195cbba0-4116-41c3-d4a0-8998cfa7a119"
      },
      "execution_count": 21,
      "outputs": [
        {
          "output_type": "stream",
          "name": "stdout",
          "text": [
            "Employee John Doe's salary: $2000.00\n",
            "Manager Jane Smith's salary: $4000.00\n"
          ]
        }
      ]
    },
    {
      "cell_type": "code",
      "source": [
        "#15.\n",
        "class Product:\n",
        "    def __init__(self, name, price, quantity):\n",
        "        self.name = name\n",
        "        self.price = price\n",
        "        self.quantity = quantity\n",
        "\n",
        "    def total_price(self):\n",
        "        return self.price * self.quantity\n",
        "\n",
        "# Create an instance of Product\n",
        "product = Product(\"Laptop\", 1000, 5)\n",
        "\n",
        "# Calculate and display the total price\n",
        "total = product.total_price()\n",
        "print(f\"Total price of {product.quantity} {product.name}(s): ${total:.2f}\")\n",
        "\n"
      ],
      "metadata": {
        "colab": {
          "base_uri": "https://localhost:8080/"
        },
        "id": "nqtvVY34L5Jk",
        "outputId": "819117de-71cf-4dd3-af13-d9e2e089bf6c"
      },
      "execution_count": 22,
      "outputs": [
        {
          "output_type": "stream",
          "name": "stdout",
          "text": [
            "Total price of 5 Laptop(s): $5000.00\n"
          ]
        }
      ]
    },
    {
      "cell_type": "code",
      "source": [
        "#16.\n",
        "# Abstract class Animal\n",
        "class Animal(ABC):\n",
        "    @abstractmethod\n",
        "    def sound(self):\n",
        "        pass\n",
        "\n",
        "# Derived class Cow\n",
        "class Cow(Animal):\n",
        "    def sound(self):\n",
        "        return \"Moo\"\n",
        "\n",
        "# Derived class Sheep\n",
        "class Sheep(Animal):\n",
        "    def sound(self):\n",
        "        return \"Baa\"\n",
        "\n",
        "# Create instances of Cow and Sheep\n",
        "cow = Cow()\n",
        "sheep = Sheep()\n",
        "\n",
        "# Call the sound() method\n",
        "print(f\"Cow says: {cow.sound()}\")\n",
        "print(f\"Sheep says: {sheep.sound()}\")\n"
      ],
      "metadata": {
        "colab": {
          "base_uri": "https://localhost:8080/"
        },
        "id": "nYIrv8b7MDHq",
        "outputId": "936de72f-743b-4a04-a4db-1779baffbff9"
      },
      "execution_count": 23,
      "outputs": [
        {
          "output_type": "stream",
          "name": "stdout",
          "text": [
            "Cow says: Moo\n",
            "Sheep says: Baa\n"
          ]
        }
      ]
    },
    {
      "cell_type": "code",
      "source": [
        "#17.\n",
        "class Book:\n",
        "    def __init__(self, title, author, year_published):\n",
        "        self.title = title\n",
        "        self.author = author\n",
        "        self.year_published = year_published\n",
        "\n",
        "    def get_book_info(self):\n",
        "        return f\"'{self.title}' by {self.author}, published in {self.year_published}\"\n",
        "\n",
        "# Create an instance of Book\n",
        "book = Book(\"To Kill a Mockingbird\", \"Harper Lee\", 1960)\n",
        "\n",
        "# Get and display the book's info\n",
        "book_info = book.get_book_info()\n",
        "print(book_info)\n",
        "\n",
        "\n"
      ],
      "metadata": {
        "colab": {
          "base_uri": "https://localhost:8080/"
        },
        "id": "Ejfim6MDMRzh",
        "outputId": "73954322-f914-4879-e5cb-b1864be2b1a4"
      },
      "execution_count": 24,
      "outputs": [
        {
          "output_type": "stream",
          "name": "stdout",
          "text": [
            "'To Kill a Mockingbird' by Harper Lee, published in 1960\n"
          ]
        }
      ]
    },
    {
      "cell_type": "code",
      "source": [
        "#18.\n",
        "class House:\n",
        "    def __init__(self, address, price):\n",
        "        self.address = address\n",
        "        self.price = price\n",
        "\n",
        "    def get_house_info(self):\n",
        "        return f\"Address:  {self.address}, Price: ${self.price:,.2f}\"\n",
        "\n",
        "class Mansion(House):\n",
        "    def __init__(self, address, price, number_of_rooms):\n",
        "        super().__init__(address, price)\n",
        "        self.number_of_rooms = number_of_rooms\n",
        "\n",
        "    def get_house_info(self):\n",
        "        return f\"{super().get_house_info()}, Number of Rooms: {self.number_of_rooms}\"\n",
        "\n",
        "# Create an instance of House\n",
        "house = House(\"123 Main St\", 200000)\n",
        "print(house.get_house_info())\n",
        "\n",
        "# Create an instance of Mansion\n",
        "mansion = Mansion(\"456 Mansion Dr\", 1000000, 10)\n",
        "print(mansion.get_house_info())\n",
        "\n"
      ],
      "metadata": {
        "colab": {
          "base_uri": "https://localhost:8080/"
        },
        "id": "_Xw3Vj4bMdPk",
        "outputId": "46ba72e2-52f8-4113-e4cc-ea323953a40b"
      },
      "execution_count": 25,
      "outputs": [
        {
          "output_type": "stream",
          "name": "stdout",
          "text": [
            "Address:  123 Main St, Price: $200,000.00\n",
            "Address:  456 Mansion Dr, Price: $1,000,000.00, Number of Rooms: 10\n"
          ]
        }
      ]
    }
  ]
}